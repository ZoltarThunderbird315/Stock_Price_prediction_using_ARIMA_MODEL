{
  "nbformat": 4,
  "nbformat_minor": 0,
  "metadata": {
    "colab": {
      "name": "Arima Final.ipynb",
      "provenance": []
    },
    "kernelspec": {
      "name": "python3",
      "display_name": "Python 3"
    },
    "language_info": {
      "name": "python"
    }
  },
  "cells": [
    {
      "cell_type": "markdown",
      "metadata": {
        "id": "JG7629XUVHvV"
      },
      "source": [
        "## Autoregressive Integrated Moving Averages\n",
        "\n",
        "The general process for ARIMA models is the following:\n",
        "* Visualize the Time Series Data\n",
        "* Make the time series data stationary\n",
        "* Plot the Correlation and AutoCorrelation Charts\n",
        "* Construct the ARIMA Model or Seasonal ARIMA based on the data\n",
        "* Use the model to make predictions\n"
      ]
    },
    {
      "cell_type": "code",
      "metadata": {
        "id": "2kPg_iMUDcWD",
        "colab": {
          "base_uri": "https://localhost:8080/"
        },
        "outputId": "9dee50b8-4bca-4509-d2e3-6dae14685e4f"
      },
      "source": [
        "import pandas as pd\n",
        "import numpy as np\n",
        "import pylab as p\n",
        "import matplotlib.pyplot as plot\n",
        "from collections import Counter\n",
        "\n",
        "#importing packages for the prediction of time-series data\n",
        "import statsmodels.api as sm\n",
        "import statsmodels.tsa.api as smt\n",
        "import statsmodels.formula.api as smf\n",
        "\n",
        "from sklearn.metrics import mean_squared_error"
      ],
      "execution_count": null,
      "outputs": [
        {
          "output_type": "stream",
          "text": [
            "/usr/local/lib/python3.7/dist-packages/statsmodels/tools/_testing.py:19: FutureWarning: pandas.util.testing is deprecated. Use the functions in the public API at pandas.testing instead.\n",
            "  import pandas.util.testing as tm\n"
          ],
          "name": "stderr"
        }
      ]
    },
    {
      "cell_type": "code",
      "metadata": {
        "colab": {
          "resources": {
            "http://localhost:8080/nbextensions/google.colab/files.js": {
              "data": "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",
              "ok": true,
              "headers": [
                [
                  "content-type",
                  "application/javascript"
                ]
              ],
              "status": 200,
              "status_text": ""
            }
          },
          "base_uri": "https://localhost:8080/",
          "height": 72
        },
        "id": "PIQFaeP_DnaT",
        "outputId": "8ca297a0-ad74-4d50-9016-ed12ab0e3c7d"
      },
      "source": [
        "from google.colab import files\n",
        "uploaded = files.upload()"
      ],
      "execution_count": null,
      "outputs": [
        {
          "output_type": "display_data",
          "data": {
            "text/html": [
              "\n",
              "     <input type=\"file\" id=\"files-fe93488e-6443-4bfd-a603-6e87c86fd44f\" name=\"files[]\" multiple disabled\n",
              "        style=\"border:none\" />\n",
              "     <output id=\"result-fe93488e-6443-4bfd-a603-6e87c86fd44f\">\n",
              "      Upload widget is only available when the cell has been executed in the\n",
              "      current browser session. Please rerun this cell to enable.\n",
              "      </output>\n",
              "      <script src=\"/nbextensions/google.colab/files.js\"></script> "
            ],
            "text/plain": [
              "<IPython.core.display.HTML object>"
            ]
          },
          "metadata": {
            "tags": []
          }
        },
        {
          "output_type": "stream",
          "text": [
            "Saving FB.csv to FB.csv\n"
          ],
          "name": "stdout"
        }
      ]
    },
    {
      "cell_type": "code",
      "metadata": {
        "id": "T2gmDnYpMJZP"
      },
      "source": [
        "data = pd.read_csv('FB.csv')"
      ],
      "execution_count": null,
      "outputs": []
    },
    {
      "cell_type": "code",
      "metadata": {
        "colab": {
          "base_uri": "https://localhost:8080/",
          "height": 419
        },
        "id": "nGPEl4NyMKNS",
        "outputId": "6e6a3358-7b55-40c5-a4c9-917afb685454"
      },
      "source": [
        "data"
      ],
      "execution_count": null,
      "outputs": [
        {
          "output_type": "execute_result",
          "data": {
            "text/html": [
              "<div>\n",
              "<style scoped>\n",
              "    .dataframe tbody tr th:only-of-type {\n",
              "        vertical-align: middle;\n",
              "    }\n",
              "\n",
              "    .dataframe tbody tr th {\n",
              "        vertical-align: top;\n",
              "    }\n",
              "\n",
              "    .dataframe thead th {\n",
              "        text-align: right;\n",
              "    }\n",
              "</style>\n",
              "<table border=\"1\" class=\"dataframe\">\n",
              "  <thead>\n",
              "    <tr style=\"text-align: right;\">\n",
              "      <th></th>\n",
              "      <th>Date</th>\n",
              "      <th>Open</th>\n",
              "      <th>High</th>\n",
              "      <th>Low</th>\n",
              "      <th>Close</th>\n",
              "      <th>Adj Close</th>\n",
              "      <th>Volume</th>\n",
              "    </tr>\n",
              "  </thead>\n",
              "  <tbody>\n",
              "    <tr>\n",
              "      <th>0</th>\n",
              "      <td>2012-05-18</td>\n",
              "      <td>42.049999</td>\n",
              "      <td>45.000000</td>\n",
              "      <td>38.000000</td>\n",
              "      <td>38.230000</td>\n",
              "      <td>38.230000</td>\n",
              "      <td>573576400</td>\n",
              "    </tr>\n",
              "    <tr>\n",
              "      <th>1</th>\n",
              "      <td>2012-05-21</td>\n",
              "      <td>36.529999</td>\n",
              "      <td>36.660000</td>\n",
              "      <td>33.000000</td>\n",
              "      <td>34.029999</td>\n",
              "      <td>34.029999</td>\n",
              "      <td>168192700</td>\n",
              "    </tr>\n",
              "    <tr>\n",
              "      <th>2</th>\n",
              "      <td>2012-05-22</td>\n",
              "      <td>32.610001</td>\n",
              "      <td>33.590000</td>\n",
              "      <td>30.940001</td>\n",
              "      <td>31.000000</td>\n",
              "      <td>31.000000</td>\n",
              "      <td>101786600</td>\n",
              "    </tr>\n",
              "    <tr>\n",
              "      <th>3</th>\n",
              "      <td>2012-05-23</td>\n",
              "      <td>31.370001</td>\n",
              "      <td>32.500000</td>\n",
              "      <td>31.360001</td>\n",
              "      <td>32.000000</td>\n",
              "      <td>32.000000</td>\n",
              "      <td>73600000</td>\n",
              "    </tr>\n",
              "    <tr>\n",
              "      <th>4</th>\n",
              "      <td>2012-05-24</td>\n",
              "      <td>32.950001</td>\n",
              "      <td>33.209999</td>\n",
              "      <td>31.770000</td>\n",
              "      <td>33.029999</td>\n",
              "      <td>33.029999</td>\n",
              "      <td>50237200</td>\n",
              "    </tr>\n",
              "    <tr>\n",
              "      <th>...</th>\n",
              "      <td>...</td>\n",
              "      <td>...</td>\n",
              "      <td>...</td>\n",
              "      <td>...</td>\n",
              "      <td>...</td>\n",
              "      <td>...</td>\n",
              "      <td>...</td>\n",
              "    </tr>\n",
              "    <tr>\n",
              "      <th>2249</th>\n",
              "      <td>2021-04-28</td>\n",
              "      <td>307.359985</td>\n",
              "      <td>310.920013</td>\n",
              "      <td>305.369995</td>\n",
              "      <td>307.100006</td>\n",
              "      <td>307.100006</td>\n",
              "      <td>33907200</td>\n",
              "    </tr>\n",
              "    <tr>\n",
              "      <th>2250</th>\n",
              "      <td>2021-04-29</td>\n",
              "      <td>330.119995</td>\n",
              "      <td>331.809998</td>\n",
              "      <td>321.609985</td>\n",
              "      <td>329.510010</td>\n",
              "      <td>329.510010</td>\n",
              "      <td>56526800</td>\n",
              "    </tr>\n",
              "    <tr>\n",
              "      <th>2251</th>\n",
              "      <td>2021-04-30</td>\n",
              "      <td>326.140015</td>\n",
              "      <td>329.820007</td>\n",
              "      <td>324.500000</td>\n",
              "      <td>325.079987</td>\n",
              "      <td>325.079987</td>\n",
              "      <td>26322000</td>\n",
              "    </tr>\n",
              "    <tr>\n",
              "      <th>2252</th>\n",
              "      <td>2021-05-03</td>\n",
              "      <td>326.170013</td>\n",
              "      <td>328.549988</td>\n",
              "      <td>321.839996</td>\n",
              "      <td>322.579987</td>\n",
              "      <td>322.579987</td>\n",
              "      <td>18719500</td>\n",
              "    </tr>\n",
              "    <tr>\n",
              "      <th>2253</th>\n",
              "      <td>2021-05-04</td>\n",
              "      <td>320.019989</td>\n",
              "      <td>322.190002</td>\n",
              "      <td>313.119995</td>\n",
              "      <td>318.359985</td>\n",
              "      <td>318.359985</td>\n",
              "      <td>24021500</td>\n",
              "    </tr>\n",
              "  </tbody>\n",
              "</table>\n",
              "<p>2254 rows × 7 columns</p>\n",
              "</div>"
            ],
            "text/plain": [
              "            Date        Open        High  ...       Close   Adj Close     Volume\n",
              "0     2012-05-18   42.049999   45.000000  ...   38.230000   38.230000  573576400\n",
              "1     2012-05-21   36.529999   36.660000  ...   34.029999   34.029999  168192700\n",
              "2     2012-05-22   32.610001   33.590000  ...   31.000000   31.000000  101786600\n",
              "3     2012-05-23   31.370001   32.500000  ...   32.000000   32.000000   73600000\n",
              "4     2012-05-24   32.950001   33.209999  ...   33.029999   33.029999   50237200\n",
              "...          ...         ...         ...  ...         ...         ...        ...\n",
              "2249  2021-04-28  307.359985  310.920013  ...  307.100006  307.100006   33907200\n",
              "2250  2021-04-29  330.119995  331.809998  ...  329.510010  329.510010   56526800\n",
              "2251  2021-04-30  326.140015  329.820007  ...  325.079987  325.079987   26322000\n",
              "2252  2021-05-03  326.170013  328.549988  ...  322.579987  322.579987   18719500\n",
              "2253  2021-05-04  320.019989  322.190002  ...  318.359985  318.359985   24021500\n",
              "\n",
              "[2254 rows x 7 columns]"
            ]
          },
          "metadata": {
            "tags": []
          },
          "execution_count": 3
        }
      ]
    },
    {
      "cell_type": "code",
      "metadata": {
        "id": "G4Dcir-xDqLY"
      },
      "source": [
        "#reading the data and converting the Date column into pandas datetime object and also making it the index\n",
        "data = pd.read_csv('FB.csv')\n",
        "data.index = data['Date']\n",
        "data.drop(['Date'], axis = 1, inplace = True)\n",
        "data.index = pd.to_datetime(data.index)"
      ],
      "execution_count": null,
      "outputs": []
    },
    {
      "cell_type": "code",
      "metadata": {
        "colab": {
          "base_uri": "https://localhost:8080/",
          "height": 450
        },
        "id": "KJYI-W2zD0Y-",
        "outputId": "c0343112-f1ec-4092-c93f-c6acf244863f"
      },
      "source": [
        "data"
      ],
      "execution_count": null,
      "outputs": [
        {
          "output_type": "execute_result",
          "data": {
            "text/html": [
              "<div>\n",
              "<style scoped>\n",
              "    .dataframe tbody tr th:only-of-type {\n",
              "        vertical-align: middle;\n",
              "    }\n",
              "\n",
              "    .dataframe tbody tr th {\n",
              "        vertical-align: top;\n",
              "    }\n",
              "\n",
              "    .dataframe thead th {\n",
              "        text-align: right;\n",
              "    }\n",
              "</style>\n",
              "<table border=\"1\" class=\"dataframe\">\n",
              "  <thead>\n",
              "    <tr style=\"text-align: right;\">\n",
              "      <th></th>\n",
              "      <th>Open</th>\n",
              "      <th>High</th>\n",
              "      <th>Low</th>\n",
              "      <th>Close</th>\n",
              "      <th>Adj Close</th>\n",
              "      <th>Volume</th>\n",
              "    </tr>\n",
              "    <tr>\n",
              "      <th>Date</th>\n",
              "      <th></th>\n",
              "      <th></th>\n",
              "      <th></th>\n",
              "      <th></th>\n",
              "      <th></th>\n",
              "      <th></th>\n",
              "    </tr>\n",
              "  </thead>\n",
              "  <tbody>\n",
              "    <tr>\n",
              "      <th>2012-05-18</th>\n",
              "      <td>42.049999</td>\n",
              "      <td>45.000000</td>\n",
              "      <td>38.000000</td>\n",
              "      <td>38.230000</td>\n",
              "      <td>38.230000</td>\n",
              "      <td>573576400</td>\n",
              "    </tr>\n",
              "    <tr>\n",
              "      <th>2012-05-21</th>\n",
              "      <td>36.529999</td>\n",
              "      <td>36.660000</td>\n",
              "      <td>33.000000</td>\n",
              "      <td>34.029999</td>\n",
              "      <td>34.029999</td>\n",
              "      <td>168192700</td>\n",
              "    </tr>\n",
              "    <tr>\n",
              "      <th>2012-05-22</th>\n",
              "      <td>32.610001</td>\n",
              "      <td>33.590000</td>\n",
              "      <td>30.940001</td>\n",
              "      <td>31.000000</td>\n",
              "      <td>31.000000</td>\n",
              "      <td>101786600</td>\n",
              "    </tr>\n",
              "    <tr>\n",
              "      <th>2012-05-23</th>\n",
              "      <td>31.370001</td>\n",
              "      <td>32.500000</td>\n",
              "      <td>31.360001</td>\n",
              "      <td>32.000000</td>\n",
              "      <td>32.000000</td>\n",
              "      <td>73600000</td>\n",
              "    </tr>\n",
              "    <tr>\n",
              "      <th>2012-05-24</th>\n",
              "      <td>32.950001</td>\n",
              "      <td>33.209999</td>\n",
              "      <td>31.770000</td>\n",
              "      <td>33.029999</td>\n",
              "      <td>33.029999</td>\n",
              "      <td>50237200</td>\n",
              "    </tr>\n",
              "    <tr>\n",
              "      <th>...</th>\n",
              "      <td>...</td>\n",
              "      <td>...</td>\n",
              "      <td>...</td>\n",
              "      <td>...</td>\n",
              "      <td>...</td>\n",
              "      <td>...</td>\n",
              "    </tr>\n",
              "    <tr>\n",
              "      <th>2021-04-28</th>\n",
              "      <td>307.359985</td>\n",
              "      <td>310.920013</td>\n",
              "      <td>305.369995</td>\n",
              "      <td>307.100006</td>\n",
              "      <td>307.100006</td>\n",
              "      <td>33907200</td>\n",
              "    </tr>\n",
              "    <tr>\n",
              "      <th>2021-04-29</th>\n",
              "      <td>330.119995</td>\n",
              "      <td>331.809998</td>\n",
              "      <td>321.609985</td>\n",
              "      <td>329.510010</td>\n",
              "      <td>329.510010</td>\n",
              "      <td>56526800</td>\n",
              "    </tr>\n",
              "    <tr>\n",
              "      <th>2021-04-30</th>\n",
              "      <td>326.140015</td>\n",
              "      <td>329.820007</td>\n",
              "      <td>324.500000</td>\n",
              "      <td>325.079987</td>\n",
              "      <td>325.079987</td>\n",
              "      <td>26322000</td>\n",
              "    </tr>\n",
              "    <tr>\n",
              "      <th>2021-05-03</th>\n",
              "      <td>326.170013</td>\n",
              "      <td>328.549988</td>\n",
              "      <td>321.839996</td>\n",
              "      <td>322.579987</td>\n",
              "      <td>322.579987</td>\n",
              "      <td>18719500</td>\n",
              "    </tr>\n",
              "    <tr>\n",
              "      <th>2021-05-04</th>\n",
              "      <td>320.019989</td>\n",
              "      <td>322.190002</td>\n",
              "      <td>313.119995</td>\n",
              "      <td>318.359985</td>\n",
              "      <td>318.359985</td>\n",
              "      <td>24021500</td>\n",
              "    </tr>\n",
              "  </tbody>\n",
              "</table>\n",
              "<p>2254 rows × 6 columns</p>\n",
              "</div>"
            ],
            "text/plain": [
              "                  Open        High  ...   Adj Close     Volume\n",
              "Date                                ...                       \n",
              "2012-05-18   42.049999   45.000000  ...   38.230000  573576400\n",
              "2012-05-21   36.529999   36.660000  ...   34.029999  168192700\n",
              "2012-05-22   32.610001   33.590000  ...   31.000000  101786600\n",
              "2012-05-23   31.370001   32.500000  ...   32.000000   73600000\n",
              "2012-05-24   32.950001   33.209999  ...   33.029999   50237200\n",
              "...                ...         ...  ...         ...        ...\n",
              "2021-04-28  307.359985  310.920013  ...  307.100006   33907200\n",
              "2021-04-29  330.119995  331.809998  ...  329.510010   56526800\n",
              "2021-04-30  326.140015  329.820007  ...  325.079987   26322000\n",
              "2021-05-03  326.170013  328.549988  ...  322.579987   18719500\n",
              "2021-05-04  320.019989  322.190002  ...  318.359985   24021500\n",
              "\n",
              "[2254 rows x 6 columns]"
            ]
          },
          "metadata": {
            "tags": []
          },
          "execution_count": 5
        }
      ]
    },
    {
      "cell_type": "code",
      "metadata": {
        "colab": {
          "base_uri": "https://localhost:8080/",
          "height": 297
        },
        "id": "98HX22cND1eS",
        "outputId": "db741170-da95-4a32-aa6c-dc5f6f3f75c2"
      },
      "source": [
        "data.describe()"
      ],
      "execution_count": null,
      "outputs": [
        {
          "output_type": "execute_result",
          "data": {
            "text/html": [
              "<div>\n",
              "<style scoped>\n",
              "    .dataframe tbody tr th:only-of-type {\n",
              "        vertical-align: middle;\n",
              "    }\n",
              "\n",
              "    .dataframe tbody tr th {\n",
              "        vertical-align: top;\n",
              "    }\n",
              "\n",
              "    .dataframe thead th {\n",
              "        text-align: right;\n",
              "    }\n",
              "</style>\n",
              "<table border=\"1\" class=\"dataframe\">\n",
              "  <thead>\n",
              "    <tr style=\"text-align: right;\">\n",
              "      <th></th>\n",
              "      <th>Open</th>\n",
              "      <th>High</th>\n",
              "      <th>Low</th>\n",
              "      <th>Close</th>\n",
              "      <th>Adj Close</th>\n",
              "      <th>Volume</th>\n",
              "    </tr>\n",
              "  </thead>\n",
              "  <tbody>\n",
              "    <tr>\n",
              "      <th>count</th>\n",
              "      <td>2254.000000</td>\n",
              "      <td>2254.000000</td>\n",
              "      <td>2254.000000</td>\n",
              "      <td>2254.000000</td>\n",
              "      <td>2254.000000</td>\n",
              "      <td>2.254000e+03</td>\n",
              "    </tr>\n",
              "    <tr>\n",
              "      <th>mean</th>\n",
              "      <td>129.939769</td>\n",
              "      <td>131.476136</td>\n",
              "      <td>128.367378</td>\n",
              "      <td>129.968860</td>\n",
              "      <td>129.968860</td>\n",
              "      <td>3.170186e+07</td>\n",
              "    </tr>\n",
              "    <tr>\n",
              "      <th>std</th>\n",
              "      <td>73.155116</td>\n",
              "      <td>74.065004</td>\n",
              "      <td>72.269093</td>\n",
              "      <td>73.187629</td>\n",
              "      <td>73.187629</td>\n",
              "      <td>2.817174e+07</td>\n",
              "    </tr>\n",
              "    <tr>\n",
              "      <th>min</th>\n",
              "      <td>18.080000</td>\n",
              "      <td>18.270000</td>\n",
              "      <td>17.549999</td>\n",
              "      <td>17.730000</td>\n",
              "      <td>17.730000</td>\n",
              "      <td>5.913100e+06</td>\n",
              "    </tr>\n",
              "    <tr>\n",
              "      <th>25%</th>\n",
              "      <td>74.000000</td>\n",
              "      <td>74.447500</td>\n",
              "      <td>73.012501</td>\n",
              "      <td>73.649997</td>\n",
              "      <td>73.649997</td>\n",
              "      <td>1.615475e+07</td>\n",
              "    </tr>\n",
              "    <tr>\n",
              "      <th>50%</th>\n",
              "      <td>125.979999</td>\n",
              "      <td>126.795002</td>\n",
              "      <td>124.950001</td>\n",
              "      <td>126.145000</td>\n",
              "      <td>126.145000</td>\n",
              "      <td>2.306145e+07</td>\n",
              "    </tr>\n",
              "    <tr>\n",
              "      <th>75%</th>\n",
              "      <td>180.379997</td>\n",
              "      <td>181.817497</td>\n",
              "      <td>178.347500</td>\n",
              "      <td>180.177494</td>\n",
              "      <td>180.177494</td>\n",
              "      <td>3.690652e+07</td>\n",
              "    </tr>\n",
              "    <tr>\n",
              "      <th>max</th>\n",
              "      <td>330.119995</td>\n",
              "      <td>331.809998</td>\n",
              "      <td>324.500000</td>\n",
              "      <td>329.510010</td>\n",
              "      <td>329.510010</td>\n",
              "      <td>5.735764e+08</td>\n",
              "    </tr>\n",
              "  </tbody>\n",
              "</table>\n",
              "</div>"
            ],
            "text/plain": [
              "              Open         High  ...    Adj Close        Volume\n",
              "count  2254.000000  2254.000000  ...  2254.000000  2.254000e+03\n",
              "mean    129.939769   131.476136  ...   129.968860  3.170186e+07\n",
              "std      73.155116    74.065004  ...    73.187629  2.817174e+07\n",
              "min      18.080000    18.270000  ...    17.730000  5.913100e+06\n",
              "25%      74.000000    74.447500  ...    73.649997  1.615475e+07\n",
              "50%     125.979999   126.795002  ...   126.145000  2.306145e+07\n",
              "75%     180.379997   181.817497  ...   180.177494  3.690652e+07\n",
              "max     330.119995   331.809998  ...   329.510010  5.735764e+08\n",
              "\n",
              "[8 rows x 6 columns]"
            ]
          },
          "metadata": {
            "tags": []
          },
          "execution_count": 6
        }
      ]
    },
    {
      "cell_type": "code",
      "metadata": {
        "colab": {
          "base_uri": "https://localhost:8080/"
        },
        "id": "Xjht_GXiD3Iq",
        "outputId": "77932a5f-1697-40c1-f341-218fa9c1f42e"
      },
      "source": [
        "data.info()"
      ],
      "execution_count": null,
      "outputs": [
        {
          "output_type": "stream",
          "text": [
            "<class 'pandas.core.frame.DataFrame'>\n",
            "DatetimeIndex: 2254 entries, 2012-05-18 to 2021-05-04\n",
            "Data columns (total 6 columns):\n",
            " #   Column     Non-Null Count  Dtype  \n",
            "---  ------     --------------  -----  \n",
            " 0   Open       2254 non-null   float64\n",
            " 1   High       2254 non-null   float64\n",
            " 2   Low        2254 non-null   float64\n",
            " 3   Close      2254 non-null   float64\n",
            " 4   Adj Close  2254 non-null   float64\n",
            " 5   Volume     2254 non-null   int64  \n",
            "dtypes: float64(5), int64(1)\n",
            "memory usage: 123.3 KB\n"
          ],
          "name": "stdout"
        }
      ]
    },
    {
      "cell_type": "code",
      "metadata": {
        "colab": {
          "base_uri": "https://localhost:8080/"
        },
        "id": "8FLA4eA2D47x",
        "outputId": "80fe30c4-9f88-4994-a34b-c06b3b6a820f"
      },
      "source": [
        "data.isnull().sum() #checking if there are any null or infinite values"
      ],
      "execution_count": null,
      "outputs": [
        {
          "output_type": "execute_result",
          "data": {
            "text/plain": [
              "Open         0\n",
              "High         0\n",
              "Low          0\n",
              "Close        0\n",
              "Adj Close    0\n",
              "Volume       0\n",
              "dtype: int64"
            ]
          },
          "metadata": {
            "tags": []
          },
          "execution_count": 8
        }
      ]
    },
    {
      "cell_type": "markdown",
      "metadata": {
        "id": "3b2c6uMUmr18"
      },
      "source": [
        "# Visualizing the Data"
      ]
    },
    {
      "cell_type": "code",
      "metadata": {
        "id": "pFynGaqUD6-j"
      },
      "source": [
        "data.drop(['Open', 'High', 'Low', 'Adj Close', 'Volume'], axis = 1, inplace = True)"
      ],
      "execution_count": null,
      "outputs": []
    },
    {
      "cell_type": "code",
      "metadata": {
        "colab": {
          "base_uri": "https://localhost:8080/",
          "height": 450
        },
        "id": "mCj1XG2YGfr0",
        "outputId": "149f04be-36c7-4416-91d9-7200af64c6b4"
      },
      "source": [
        "data"
      ],
      "execution_count": null,
      "outputs": [
        {
          "output_type": "execute_result",
          "data": {
            "text/html": [
              "<div>\n",
              "<style scoped>\n",
              "    .dataframe tbody tr th:only-of-type {\n",
              "        vertical-align: middle;\n",
              "    }\n",
              "\n",
              "    .dataframe tbody tr th {\n",
              "        vertical-align: top;\n",
              "    }\n",
              "\n",
              "    .dataframe thead th {\n",
              "        text-align: right;\n",
              "    }\n",
              "</style>\n",
              "<table border=\"1\" class=\"dataframe\">\n",
              "  <thead>\n",
              "    <tr style=\"text-align: right;\">\n",
              "      <th></th>\n",
              "      <th>Close</th>\n",
              "    </tr>\n",
              "    <tr>\n",
              "      <th>Date</th>\n",
              "      <th></th>\n",
              "    </tr>\n",
              "  </thead>\n",
              "  <tbody>\n",
              "    <tr>\n",
              "      <th>2012-05-18</th>\n",
              "      <td>38.230000</td>\n",
              "    </tr>\n",
              "    <tr>\n",
              "      <th>2012-05-21</th>\n",
              "      <td>34.029999</td>\n",
              "    </tr>\n",
              "    <tr>\n",
              "      <th>2012-05-22</th>\n",
              "      <td>31.000000</td>\n",
              "    </tr>\n",
              "    <tr>\n",
              "      <th>2012-05-23</th>\n",
              "      <td>32.000000</td>\n",
              "    </tr>\n",
              "    <tr>\n",
              "      <th>2012-05-24</th>\n",
              "      <td>33.029999</td>\n",
              "    </tr>\n",
              "    <tr>\n",
              "      <th>...</th>\n",
              "      <td>...</td>\n",
              "    </tr>\n",
              "    <tr>\n",
              "      <th>2021-04-28</th>\n",
              "      <td>307.100006</td>\n",
              "    </tr>\n",
              "    <tr>\n",
              "      <th>2021-04-29</th>\n",
              "      <td>329.510010</td>\n",
              "    </tr>\n",
              "    <tr>\n",
              "      <th>2021-04-30</th>\n",
              "      <td>325.079987</td>\n",
              "    </tr>\n",
              "    <tr>\n",
              "      <th>2021-05-03</th>\n",
              "      <td>322.579987</td>\n",
              "    </tr>\n",
              "    <tr>\n",
              "      <th>2021-05-04</th>\n",
              "      <td>318.359985</td>\n",
              "    </tr>\n",
              "  </tbody>\n",
              "</table>\n",
              "<p>2254 rows × 1 columns</p>\n",
              "</div>"
            ],
            "text/plain": [
              "                 Close\n",
              "Date                  \n",
              "2012-05-18   38.230000\n",
              "2012-05-21   34.029999\n",
              "2012-05-22   31.000000\n",
              "2012-05-23   32.000000\n",
              "2012-05-24   33.029999\n",
              "...                ...\n",
              "2021-04-28  307.100006\n",
              "2021-04-29  329.510010\n",
              "2021-04-30  325.079987\n",
              "2021-05-03  322.579987\n",
              "2021-05-04  318.359985\n",
              "\n",
              "[2254 rows x 1 columns]"
            ]
          },
          "metadata": {
            "tags": []
          },
          "execution_count": 14
        }
      ]
    },
    {
      "cell_type": "code",
      "metadata": {
        "colab": {
          "base_uri": "https://localhost:8080/",
          "height": 300
        },
        "id": "Nn4FYIzFEPke",
        "outputId": "a15f5096-667d-4eb3-b746-923f404728c3"
      },
      "source": [
        "plot.plot(data['Close'])\n",
        "plot.xlabel('Date', fontsize=12)\n",
        "plot.ylabel('Price in USD', fontsize=12)\n",
        "plot.title(\"Closing price distribution of Facebook\", fontsize=15)\n",
        "plot.show()"
      ],
      "execution_count": null,
      "outputs": [
        {
          "output_type": "display_data",
          "data": {
            "image/png": "[encoded data removed]",
            "text/plain": [
              "<Figure size 432x288 with 1 Axes>"
            ]
          },
          "metadata": {
            "tags": [],
            "needs_background": "light"
          }
        }
      ]
    },
    {
      "cell_type": "code",
      "metadata": {
        "id": "bwaV3GmbERAX"
      },
      "source": [
        "df = data['Close']\n",
        "\n",
        "# Resampling to daily frequency\n",
        "df = df.resample('D').mean()\n",
        "\n",
        "# Resampling to monthly frequency\n",
        "df_month = df.resample('M').mean()\n",
        "\n",
        "# Resampling to annual frequency\n",
        "df_year = df.resample('A-DEC').mean()\n",
        "\n",
        "# Resampling to quarterly frequency\n",
        "df_Q = df.resample('Q-DEC').mean()"
      ],
      "execution_count": null,
      "outputs": []
    },
    {
      "cell_type": "code",
      "metadata": {
        "colab": {
          "base_uri": "https://localhost:8080/",
          "height": 479
        },
        "id": "CZavhBUEEVNi",
        "outputId": "943e7b1a-c9fc-4cef-9440-159863c54ae6"
      },
      "source": [
        "# PLOTS\n",
        "fig = plot.figure(figsize=[15, 7])\n",
        "plot.suptitle('Facebook Stock exchanges, mean USD', fontsize=22)\n",
        "\n",
        "plot.subplot(221)\n",
        "plot.plot(df, '-', label='By Days')\n",
        "plot.legend()\n",
        "\n",
        "plot.subplot(222)\n",
        "plot.plot(df_month, '-', label='By Months')\n",
        "plot.legend()\n",
        "\n",
        "plot.subplot(223)\n",
        "plot.plot(df_Q, '-', label='By Quarters')\n",
        "plot.legend()\n",
        "\n",
        "plot.subplot(224)\n",
        "plot.plot(df_year, '-', label='By Years')\n",
        "plot.legend()\n",
        "\n",
        "# plt.tight_layout()\n",
        "plot.show()"
      ],
      "execution_count": null,
      "outputs": [
        {
          "output_type": "display_data",
          "data": {
            "image/png": "[encoded data removed]",
            "text/plain": [
              "<Figure size 1080x504 with 4 Axes>"
            ]
          },
          "metadata": {
            "tags": [],
            "needs_background": "light"
          }
        }
      ]
    },
    {
      "cell_type": "markdown",
      "metadata": {
        "id": "ZT-rYlghmwZ0"
      },
      "source": [
        "# Checking Stationarity of the data"
      ]
    },
    {
      "cell_type": "code",
      "metadata": {
        "id": "74eKBAruOZSE"
      },
      "source": [
        "from statsmodels.tsa.stattools import adfuller\n",
        "\n",
        "def test_stationarity(x):\n",
        "\n",
        "\n",
        "    #Determing rolling statistics\n",
        "    rolmean = x.rolling(window=22,center=False).mean()\n",
        "\n",
        "    rolstd = x.rolling(window=22,center=False).std()\n",
        "    \n",
        "    #Plot rolling statistics:\n",
        "    orig = plot.plot(x, color='blue',label='Original')\n",
        "    mean = plot.plot(rolmean, color='red', label='Rolling Mean')\n",
        "    std = plot.plot(rolstd, color='black', label = 'Rolling Std')\n",
        "    plot.legend(loc='best')\n",
        "    plot.title('Rolling Mean & Standard Deviation')\n",
        "    plot.show(block=False)\n",
        "    \n",
        "    #Perform Dickey Fuller test    \n",
        "    result=adfuller(x)\n",
        "    print('ADF Stastistic: %f'%result[0])\n",
        "    print('p-value: %f'%result[1])\n",
        "    pvalue=result[1]\n",
        "    for key,value in result[4].items():\n",
        "         if result[0]>value:\n",
        "            print(\"The graph is non stationary\")\n",
        "            break\n",
        "         else:\n",
        "            print(\"The graph is stationary\")\n",
        "            break;\n",
        "    print('Critical values:')\n",
        "    for key,value in result[4].items():\n",
        "        print('\\t%s: %.3f ' % (key, value))"
      ],
      "execution_count": null,
      "outputs": []
    },
    {
      "cell_type": "code",
      "metadata": {
        "id": "YoAxyDO0Od7H"
      },
      "source": [
        "df = df.fillna(method='ffill')"
      ],
      "execution_count": null,
      "outputs": []
    },
    {
      "cell_type": "code",
      "metadata": {
        "colab": {
          "base_uri": "https://localhost:8080/",
          "height": 400
        },
        "id": "SGShQIzhOfgK",
        "outputId": "1e995104-ba42-4aa6-b362-efae4d73a202"
      },
      "source": [
        "test_stationarity(df)"
      ],
      "execution_count": null,
      "outputs": [
        {
          "output_type": "display_data",
          "data": {
            "image/png": "[encoded data removed]",
            "text/plain": [
              "<Figure size 432x288 with 1 Axes>"
            ]
          },
          "metadata": {
            "tags": [],
            "needs_background": "light"
          }
        },
        {
          "output_type": "stream",
          "text": [
            "ADF Stastistic: 0.290173\n",
            "p-value: 0.976889\n",
            "The graph is non stationery\n",
            "Critical values:\n",
            "\t1%: -3.432 \n",
            "\t5%: -2.862 \n",
            "\t10%: -2.567 \n"
          ],
          "name": "stdout"
        }
      ]
    },
    {
      "cell_type": "code",
      "metadata": {
        "colab": {
          "base_uri": "https://localhost:8080/",
          "height": 265
        },
        "id": "rCeMVTdiOgvo",
        "outputId": "39724105-1553-430e-af6f-f78803611921"
      },
      "source": [
        "ts_log = np.log(data['Close'])\n",
        "plot.plot(ts_log,color=\"green\")\n",
        "plot.show()"
      ],
      "execution_count": null,
      "outputs": [
        {
          "output_type": "display_data",
          "data": {
            "image/png": "[encoded data removed]",
            "text/plain": [
              "<Figure size 432x288 with 1 Axes>"
            ]
          },
          "metadata": {
            "tags": [],
            "needs_background": "light"
          }
        }
      ]
    },
    {
      "cell_type": "code",
      "metadata": {
        "id": "1m4zjuJFOpen"
      },
      "source": [
        "data['Log transformed'] = ts_log "
      ],
      "execution_count": null,
      "outputs": []
    },
    {
      "cell_type": "code",
      "metadata": {
        "colab": {
          "base_uri": "https://localhost:8080/",
          "height": 400
        },
        "id": "SjT2xB8POsTt",
        "outputId": "77d09f54-db70-4a60-a2a2-d8ffae7a1305"
      },
      "source": [
        "test_stationarity(data['Log transformed'])"
      ],
      "execution_count": null,
      "outputs": [
        {
          "output_type": "display_data",
          "data": {
            "image/png": "[encoded data removed]",
            "text/plain": [
              "<Figure size 432x288 with 1 Axes>"
            ]
          },
          "metadata": {
            "tags": [],
            "needs_background": "light"
          }
        },
        {
          "output_type": "stream",
          "text": [
            "ADF Stastistic: -1.119144\n",
            "p-value: 0.707377\n",
            "The graph is non stationery\n",
            "Critical values:\n",
            "\t1%: -3.433 \n",
            "\t5%: -2.863 \n",
            "\t10%: -2.567 \n"
          ],
          "name": "stdout"
        }
      ]
    },
    {
      "cell_type": "code",
      "metadata": {
        "id": "pSX7yim4ICeD"
      },
      "source": [
        "[1 2 3 4 5 6 7 8 9 10] - [NaN 1 2 3 4 5 6 7 8 9] = [Nan ...]"
      ],
      "execution_count": null,
      "outputs": []
    },
    {
      "cell_type": "code",
      "metadata": {
        "colab": {
          "base_uri": "https://localhost:8080/",
          "height": 265
        },
        "id": "zM7ODYgGOw93",
        "outputId": "89c8a549-a5b5-4d6c-e742-84b16551c66b"
      },
      "source": [
        "ts_log_diff = ts_log - ts_log.shift()\n",
        "plot.plot(ts_log_diff)\n",
        "plot.show()"
      ],
      "execution_count": null,
      "outputs": [
        {
          "output_type": "display_data",
          "data": {
            "image/png": "[encoded data removed]",
            "text/plain": [
              "<Figure size 432x288 with 1 Axes>"
            ]
          },
          "metadata": {
            "tags": [],
            "needs_background": "light"
          }
        }
      ]
    },
    {
      "cell_type": "code",
      "metadata": {
        "colab": {
          "base_uri": "https://localhost:8080/",
          "height": 400
        },
        "id": "uVmdJBITIacA",
        "outputId": "458bceaf-c163-4fd9-a0ff-ad8d3afb5637"
      },
      "source": [
        "test_stationarity(ts_log_diff.dropna())"
      ],
      "execution_count": null,
      "outputs": [
        {
          "output_type": "display_data",
          "data": {
            "image/png": "[encoded data removed]",
            "text/plain": [
              "<Figure size 432x288 with 1 Axes>"
            ]
          },
          "metadata": {
            "tags": [],
            "needs_background": "light"
          }
        },
        {
          "output_type": "stream",
          "text": [
            "ADF Stastistic: -16.092886\n",
            "p-value: 0.000000\n",
            "The graph is stationery\n",
            "Critical values:\n",
            "\t1%: -3.433 \n",
            "\t5%: -2.863 \n",
            "\t10%: -2.567 \n"
          ],
          "name": "stdout"
        }
      ]
    },
    {
      "cell_type": "code",
      "metadata": {
        "id": "0zT_ajpLO05N"
      },
      "source": [
        "data['Shifted Log transformed'] = ts_log_diff"
      ],
      "execution_count": null,
      "outputs": []
    },
    {
      "cell_type": "code",
      "metadata": {
        "id": "l2APUD63O8Jm"
      },
      "source": [
        "from statsmodels.graphics.tsaplots import plot_acf,plot_pacf"
      ],
      "execution_count": null,
      "outputs": []
    },
    {
      "cell_type": "code",
      "metadata": {
        "colab": {
          "base_uri": "https://localhost:8080/",
          "height": 499
        },
        "id": "jt7T1lvrPFjI",
        "outputId": "d678a05b-46c3-4f2d-e4f4-c36c2b7abe94"
      },
      "source": [
        "fig = plot.figure(figsize=(12,8))\n",
        "ax1 = fig.add_subplot(211)\n",
        "fig = sm.graphics.tsa.plot_acf(data['Shifted Log transformed'].dropna(),lags=40,ax=ax1)\n",
        "ax2 = fig.add_subplot(212)\n",
        "fig = sm.graphics.tsa.plot_pacf(data['Shifted Log transformed'].dropna(),lags=40,ax=ax2)"
      ],
      "execution_count": null,
      "outputs": [
        {
          "output_type": "display_data",
          "data": {
            "image/png": "[encoded data removed]",
            "text/plain": [
              "<Figure size 864x576 with 2 Axes>"
            ]
          },
          "metadata": {
            "tags": [],
            "needs_background": "light"
          }
        }
      ]
    },
    {
      "cell_type": "markdown",
      "metadata": {
        "id": "mUEpFzuZm2bL"
      },
      "source": [
        "# Making Predictions"
      ]
    },
    {
      "cell_type": "code",
      "metadata": {
        "id": "xYBMLIfGQfvP"
      },
      "source": [
        "from statsmodels.tsa.arima_model import ARIMA"
      ],
      "execution_count": null,
      "outputs": []
    },
    {
      "cell_type": "code",
      "metadata": {
        "colab": {
          "base_uri": "https://localhost:8080/",
          "height": 1000
        },
        "id": "sshkl2qpQOr4",
        "outputId": "577a522b-cca4-4bf7-8f2a-ec33cc5df68b"
      },
      "source": [
        "size = int(len(ts_log)-365)\n",
        "# Divide into train and test\n",
        "train_arima, test_arima = ts_log[0:size], ts_log[size:len(ts_log)]\n",
        "history = [x for x in train_arima]\n",
        "predictions = list()\n",
        "originals = list()\n",
        "error_list = list()\n",
        "\n",
        "print('Printing Predicted vs Expected Values...')\n",
        "print('\\n')\n",
        "# We go over each value in the test set and then apply ARIMA model and calculate the predicted value. We have the expected value in the test set therefore we calculate the error between predicted and expected value \n",
        "for t in range(len(test_arima)):\n",
        "    model = ARIMA(history, order=(1, 0, 1))\n",
        "    model_fit = model.fit(disp=-1)\n",
        "    \n",
        "    output = model_fit.forecast()\n",
        "    \n",
        "    pred_value = output[0]\n",
        "    \n",
        "        \n",
        "    original_value = test_arima[t]\n",
        "    history.append(original_value)\n",
        "    \n",
        "    pred_value = np.exp(pred_value)\n",
        "    \n",
        "    \n",
        "    original_value = np.exp(original_value)\n",
        "    \n",
        "    # Calculating the error\n",
        "    error = ((abs(pred_value - original_value)) / original_value) * 100\n",
        "    error_list.append(error)\n",
        "    print('predicted = %f,   expected = %f,   error = %f ' % (pred_value, original_value, error), '%')\n",
        "    \n",
        "    predictions.append(float(pred_value))\n",
        "    originals.append(float(original_value))\n",
        "    \n",
        "# After iterating over whole test set the overall mean error is calculated.   \n",
        "print('\\n Mean Error in Predicting Test Case Articles : %f ' % (sum(error_list)/float(len(error_list))), '%')\n",
        "plot.figure(figsize=(8, 6))\n",
        "test_day = [t\n",
        "           for t in range(len(test_arima))]\n",
        "labels={'Orginal','Predicted'}\n",
        "plot.plot(test_day, predictions, color= 'green')\n",
        "plot.plot(test_day, originals, color = 'orange')\n",
        "plot.title('Expected Vs Predicted Views Forecasting')\n",
        "plot.xlabel('Day')\n",
        "plot.ylabel('Closing Price')\n",
        "plot.legend(labels)\n",
        "plot.show()"
      ],
      "execution_count": null,
      "outputs": [
        {
          "output_type": "stream",
          "text": [
            "Printing Predicted vs Expected Values...\n",
            "\n",
            "\n",
            "predicted = 199.265142,   expected = 197.509995,   error = 0.888637  %\n",
            "predicted = 197.420137,   expected = 197.929993,   error = 0.257594  %\n",
            "predicted = 197.861561,   expected = 198.820007,   error = 0.482067  %\n",
            "predicted = 198.755603,   expected = 199.789993,   error = 0.517739  %\n",
            "predicted = 199.726038,   expected = 198.970001,   error = 0.379976  %\n",
            "predicted = 198.889315,   expected = 202.000000,   error = 1.539943  %\n",
            "predicted = 201.955104,   expected = 201.639999,   error = 0.156271  %\n",
            "predicted = 201.562695,   expected = 199.699997,   error = 0.932748  %\n",
            "predicted = 199.608868,   expected = 198.820007,   error = 0.396772  %\n",
            "predicted = 198.739293,   expected = 198.710007,   error = 0.014738  %\n",
            "predicted = 198.636581,   expected = 199.360001,   error = 0.362871  %\n",
            "predicted = 199.293558,   expected = 201.050003,   error = 0.873636  %\n",
            "predicted = 200.992920,   expected = 201.339996,   error = 0.172383  %\n",
            "predicted = 201.269383,   expected = 200.869995,   error = 0.198829  %\n",
            "predicted = 200.792493,   expected = 202.259995,   error = 0.725552  %\n",
            "predicted = 202.199857,   expected = 196.750000,   error = 2.769940  %\n",
            "predicted = 196.627741,   expected = 194.110001,   error = 1.297068  %\n",
            "predicted = 194.014570,   expected = 197.919998,   error = 1.973236  %\n",
            "predicted = 197.884648,   expected = 198.389999,   error = 0.254726  %\n",
            "predicted = 198.322149,   expected = 202.500000,   error = 2.063136  %\n",
            "predicted = 202.466049,   expected = 206.059998,   error = 1.744127  %\n",
            "predicted = 206.020456,   expected = 206.300003,   error = 0.135505  %\n",
            "predicted = 206.227402,   expected = 206.179993,   error = 0.022994  %\n",
            "predicted = 206.104257,   expected = 205.119995,   error = 0.479847  %\n",
            "predicted = 205.035434,   expected = 207.789993,   error = 1.325646  %\n",
            "predicted = 207.741551,   expected = 208.100006,   error = 0.172251  %\n",
            "predicted = 208.027786,   expected = 204.410004,   error = 1.769865  %\n",
            "predicted = 204.300287,   expected = 205.250000,   error = 0.462710  %\n",
            "predicted = 205.184586,   expected = 209.779999,   error = 2.190587  %\n",
            "predicted = 209.749508,   expected = 208.669998,   error = 0.517329  %\n",
            "predicted = 208.583791,   expected = 212.600006,   error = 1.889094  %\n",
            "predicted = 212.561942,   expected = 213.059998,   error = 0.233763  %\n",
            "predicted = 212.987723,   expected = 215.220001,   error = 1.037208  %\n",
            "predicted = 215.163960,   expected = 218.300003,   error = 1.436575  %\n",
            "predicted = 218.252297,   expected = 218.059998,   error = 0.088186  %\n",
            "predicted = 217.979579,   expected = 221.910004,   error = 1.771180  %\n",
            "predicted = 221.869019,   expected = 219.059998,   error = 1.282307  %\n",
            "predicted = 218.954720,   expected = 221.149994,   error = 0.992663  %\n",
            "predicted = 221.091434,   expected = 221.770004,   error = 0.305979  %\n",
            "predicted = 221.697003,   expected = 222.139999,   error = 0.199422  %\n",
            "predicted = 222.064730,   expected = 221.440002,   error = 0.282121  %\n",
            "predicted = 221.354963,   expected = 221.320007,   error = 0.015794  %\n",
            "predicted = 221.240602,   expected = 219.759995,   error = 0.673738  %\n",
            "predicted = 219.667569,   expected = 217.940002,   error = 0.792680  %\n",
            "predicted = 217.845713,   expected = 214.869995,   error = 1.384892  %\n",
            "predicted = 214.764644,   expected = 217.789993,   error = 1.389113  %\n",
            "predicted = 217.740847,   expected = 223.229996,   error = 2.458966  %\n",
            "predicted = 223.204657,   expected = 209.529999,   error = 6.526348  %\n",
            "predicted = 209.346470,   expected = 201.910004,   error = 3.683060  %\n",
            "predicted = 201.760069,   expected = 204.190002,   error = 1.190035  %\n",
            "predicted = 204.140989,   expected = 209.830002,   error = 2.711249  %\n",
            "predicted = 209.814608,   expected = 210.110001,   error = 0.140590  %\n",
            "predicted = 210.037343,   expected = 210.850006,   error = 0.385422  %\n",
            "predicted = 210.782601,   expected = 212.330002,   error = 0.728772  %\n",
            "predicted = 212.269952,   expected = 213.059998,   error = 0.370809  %\n",
            "predicted = 212.991773,   expected = 207.190002,   error = 2.800218  %\n",
            "predicted = 207.055533,   expected = 210.759995,   error = 1.757668  %\n",
            "predicted = 210.721440,   expected = 213.139999,   error = 1.134728  %\n",
            "predicted = 213.088213,   expected = 214.179993,   error = 0.509749  %\n",
            "predicted = 214.114409,   expected = 217.800003,   error = 1.692192  %\n",
            "predicted = 217.760317,   expected = 217.490005,   error = 0.124287  %\n",
            "predicted = 217.409494,   expected = 214.580002,   error = 1.318619  %\n",
            "predicted = 214.474347,   expected = 210.179993,   error = 2.043179  %\n",
            "predicted = 210.059693,   expected = 200.720001,   error = 4.653095  %\n",
            "predicted = 200.542310,   expected = 196.770004,   error = 1.917114  %\n",
            "predicted = 196.652605,   expected = 197.199997,   error = 0.277582  %\n",
            "predicted = 197.135689,   expected = 189.750000,   error = 3.892326  %\n",
            "predicted = 189.592574,   expected = 192.470001,   error = 1.495000  %\n",
            "predicted = 192.434629,   expected = 196.440002,   error = 2.038980  %\n",
            "predicted = 196.417844,   expected = 185.889999,   error = 5.663481  %\n",
            "predicted = 185.711692,   expected = 191.759995,   error = 3.154101  %\n",
            "predicted = 191.746847,   expected = 185.169998,   error = 3.551790  %\n",
            "predicted = 185.052606,   expected = 181.089996,   error = 2.188200  %\n",
            "predicted = 180.991310,   expected = 169.500000,   error = 6.779534  %\n",
            "predicted = 169.326846,   expected = 178.190002,   error = 4.973992  %\n",
            "predicted = 178.188352,   expected = 170.240005,   error = 4.668907  %\n",
            "predicted = 170.145417,   expected = 154.470001,   error = 10.147871  %\n",
            "predicted = 154.282557,   expected = 170.279999,   error = 9.394786  %\n",
            "predicted = 170.210576,   expected = 146.009995,   error = 16.574606  %\n",
            "predicted = 146.294234,   expected = 149.419998,   error = 2.091931  %\n",
            "predicted = 149.315352,   expected = 146.960007,   error = 1.602712  %\n",
            "predicted = 146.954705,   expected = 153.130005,   error = 4.032717  %\n",
            "predicted = 152.960357,   expected = 149.729996,   error = 2.157457  %\n"
          ],
          "name": "stdout"
        },
        {
          "output_type": "stream",
          "text": [
            "/usr/local/lib/python3.7/dist-packages/statsmodels/base/model.py:512: ConvergenceWarning: Maximum Likelihood optimization failed to converge. Check mle_retvals\n",
            "  \"Check mle_retvals\", ConvergenceWarning)\n"
          ],
          "name": "stderr"
        },
        {
          "output_type": "stream",
          "text": [
            "predicted = 149.743475,   expected = 148.100006,   error = 1.109702  %\n"
          ],
          "name": "stdout"
        },
        {
          "output_type": "stream",
          "text": [
            "/usr/local/lib/python3.7/dist-packages/statsmodels/base/model.py:512: ConvergenceWarning: Maximum Likelihood optimization failed to converge. Check mle_retvals\n",
            "  \"Check mle_retvals\", ConvergenceWarning)\n"
          ],
          "name": "stderr"
        },
        {
          "output_type": "stream",
          "text": [
            "predicted = 148.083391,   expected = 160.979996,   error = 8.011309  %\n",
            "predicted = 160.651585,   expected = 156.210007,   error = 2.843338  %\n",
            "predicted = 156.255586,   expected = 163.339996,   error = 4.337217  %\n",
            "predicted = 163.113425,   expected = 156.789993,   error = 4.033058  %\n",
            "predicted = 156.893277,   expected = 165.949997,   error = 5.457499  %\n",
            "predicted = 165.640690,   expected = 166.800003,   error = 0.695032  %\n",
            "predicted = 166.711694,   expected = 159.600006,   error = 4.455945  %\n",
            "predicted = 159.735045,   expected = 158.190002,   error = 0.976701  %\n",
            "predicted = 158.177884,   expected = 154.179993,   error = 2.593003  %\n",
            "predicted = 154.233266,   expected = 165.550003,   error = 6.835842  %\n",
            "predicted = 165.163383,   expected = 168.830002,   error = 2.171782  %\n",
            "predicted = 168.672738,   expected = 174.279999,   error = 3.217386  %\n",
            "predicted = 174.070351,   expected = 175.190002,   error = 0.639107  %\n",
            "predicted = 175.099613,   expected = 174.789993,   error = 0.177138  %\n",
            "predicted = 174.736944,   expected = 178.169998,   error = 1.926842  %\n",
            "predicted = 178.017448,   expected = 176.970001,   error = 0.591878  %\n",
            "predicted = 176.935305,   expected = 176.250000,   error = 0.388825  %\n",
            "predicted = 176.206241,   expected = 179.240005,   error = 1.692571  %\n",
            "predicted = 179.097227,   expected = 178.240005,   error = 0.480937  %\n",
            "predicted = 178.200047,   expected = 170.800003,   error = 4.332579  %\n",
            "predicted = 170.929316,   expected = 182.279999,   error = 6.227059  %\n",
            "predicted = 181.882560,   expected = 185.130005,   error = 1.754143  %\n",
            "predicted = 184.974854,   expected = 190.070007,   error = 2.680672  %\n",
            "predicted = 189.862932,   expected = 187.500000,   error = 1.260231  %\n",
            "predicted = 187.498031,   expected = 182.910004,   error = 2.508352  %\n",
            "predicted = 182.968415,   expected = 194.190002,   error = 5.778664  %\n",
            "predicted = 193.792367,   expected = 204.710007,   error = 5.333222  %\n",
            "predicted = 204.350253,   expected = 202.270004,   error = 1.028452  %\n",
            "predicted = 202.251608,   expected = 205.259995,   error = 1.465647  %\n",
            "predicted = 205.107094,   expected = 207.070007,   error = 0.947947  %\n",
            "predicted = 206.944503,   expected = 208.470001,   error = 0.731759  %\n",
            "predicted = 208.355680,   expected = 211.259995,   error = 1.374759  %\n",
            "predicted = 211.108652,   expected = 212.350006,   error = 0.584579  %\n",
            "predicted = 212.242087,   expected = 213.179993,   error = 0.439960  %\n",
            "predicted = 213.079768,   expected = 210.100006,   error = 1.418259  %\n",
            "predicted = 210.102030,   expected = 205.100006,   error = 2.438822  %\n",
            "predicted = 205.153615,   expected = 206.809998,   error = 0.800920  %\n",
            "predicted = 206.693472,   expected = 210.880005,   error = 1.985268  %\n",
            "predicted = 210.696360,   expected = 213.190002,   error = 1.169681  %\n",
            "predicted = 213.050304,   expected = 216.880005,   error = 1.765816  %\n",
            "predicted = 216.705245,   expected = 229.970001,   error = 5.768038  %\n",
            "predicted = 229.555581,   expected = 231.389999,   error = 0.792782  %\n",
            "predicted = 231.264069,   expected = 234.910004,   error = 1.552056  %\n",
            "predicted = 234.739423,   expected = 232.199997,   error = 1.093637  %\n",
            "predicted = 232.178530,   expected = 229.139999,   error = 1.326059  %\n",
            "predicted = 229.130914,   expected = 225.460007,   error = 1.628185  %\n",
            "predicted = 225.466150,   expected = 225.089996,   error = 0.167113  %\n",
            "predicted = 225.019035,   expected = 231.910004,   error = 2.971398  %\n",
            "predicted = 231.662251,   expected = 232.720001,   error = 0.454516  %\n",
            "predicted = 232.612894,   expected = 230.160004,   error = 1.065732  %\n",
            "predicted = 230.136398,   expected = 226.289993,   error = 1.699768  %\n",
            "predicted = 226.299387,   expected = 230.770004,   error = 1.937261  %\n",
            "predicted = 230.581328,   expected = 231.399994,   error = 0.353788  %\n",
            "predicted = 231.299025,   expected = 238.669998,   error = 3.088353  %\n",
            "predicted = 238.409464,   expected = 236.729996,   error = 0.709445  %\n",
            "predicted = 236.686812,   expected = 224.429993,   error = 5.461310  %\n",
            "predicted = 224.630838,   expected = 228.580002,   error = 1.727694  %\n",
            "predicted = 228.402731,   expected = 232.500000,   error = 1.762266  %\n",
            "predicted = 232.318634,   expected = 235.649994,   error = 1.413690  %\n",
            "predicted = 235.487199,   expected = 235.529999,   error = 0.018172  %\n",
            "predicted = 235.446304,   expected = 235.940002,   error = 0.209247  %\n",
            "predicted = 235.845513,   expected = 238.789993,   error = 1.233084  %\n",
            "predicted = 238.635853,   expected = 239.220001,   error = 0.244189  %\n",
            "predicted = 239.122510,   expected = 242.240005,   error = 1.286945  %\n",
            "predicted = 242.080987,   expected = 234.020004,   error = 3.444570  %\n",
            "predicted = 234.129628,   expected = 235.679993,   error = 0.657826  %\n",
            "predicted = 235.559771,   expected = 216.080002,   error = 9.015073  %\n",
            "predicted = 216.465183,   expected = 220.639999,   error = 1.892139  %\n",
            "predicted = 220.452411,   expected = 227.070007,   error = 2.914342  %\n",
            "predicted = 226.816879,   expected = 237.550003,   error = 4.518259  %\n",
            "predicted = 237.196617,   expected = 233.419998,   error = 1.617950  %\n",
            "predicted = 233.432274,   expected = 240.279999,   error = 2.849894  %\n",
            "predicted = 240.017840,   expected = 240.860001,   error = 0.349647  %\n",
            "predicted = 240.754258,   expected = 243.580002,   error = 1.160089  %\n",
            "predicted = 243.422542,   expected = 244.500000,   error = 0.440678  %\n",
            "predicted = 244.387339,   expected = 245.070007,   error = 0.278560  %\n",
            "predicted = 244.967386,   expected = 239.000000,   error = 2.496814  %\n",
            "predicted = 239.066985,   expected = 239.729996,   error = 0.276566  %\n",
            "predicted = 239.629389,   expected = 240.279999,   error = 0.270772  %\n",
            "predicted = 240.179597,   expected = 240.929993,   error = 0.311458  %\n",
            "predicted = 240.826938,   expected = 242.029999,   error = 0.497071  %\n",
            "predicted = 241.915042,   expected = 245.419998,   error = 1.428146  %\n",
            "predicted = 245.244958,   expected = 241.750000,   error = 1.445691  %\n",
            "predicted = 241.755239,   expected = 239.869995,   error = 0.785944  %\n",
            "predicted = 239.834712,   expected = 232.600006,   error = 3.110364  %\n",
            "predicted = 232.699335,   expected = 230.710007,   error = 0.862263  %\n",
            "predicted = 230.679006,   expected = 233.500000,   error = 1.208135  %\n",
            "predicted = 233.347019,   expected = 230.119995,   error = 1.402322  %\n",
            "predicted = 230.120867,   expected = 233.289993,   error = 1.358449  %\n",
            "predicted = 233.127355,   expected = 234.500000,   error = 0.585350  %\n",
            "predicted = 234.383408,   expected = 253.669998,   error = 7.603024  %\n",
            "predicted = 253.079918,   expected = 251.960007,   error = 0.444480  %\n",
            "predicted = 251.901324,   expected = 249.830002,   error = 0.829092  %\n",
            "predicted = 249.796063,   expected = 249.119995,   error = 0.271382  %\n",
            "predicted = 249.051083,   expected = 265.279999,   error = 6.117655  %\n",
            "predicted = 264.762090,   expected = 268.440002,   error = 1.370106  %\n",
            "predicted = 268.257132,   expected = 263.000000,   error = 1.998910  %\n",
            "predicted = 263.040422,   expected = 256.130005,   error = 2.698012  %\n",
            "predicted = 256.209349,   expected = 259.890015,   error = 1.416240  %\n",
            "predicted = 259.708553,   expected = 261.299988,   error = 0.609045  %\n",
            "predicted = 261.170918,   expected = 261.239990,   error = 0.026440  %\n",
            "predicted = 261.148943,   expected = 261.160004,   error = 0.004235  %\n",
            "predicted = 261.070481,   expected = 262.339996,   error = 0.483920  %\n",
            "predicted = 262.218864,   expected = 262.589996,   error = 0.141335  %\n",
            "predicted = 262.491292,   expected = 269.010010,   error = 2.423225  %\n",
            "predicted = 268.755069,   expected = 267.010010,   error = 0.653555  %\n",
            "predicted = 266.962956,   expected = 271.390015,   error = 1.631253  %\n",
            "predicted = 271.186649,   expected = 280.820007,   error = 3.430439  %\n",
            "predicted = 280.485138,   expected = 303.910004,   error = 7.707830  %\n",
            "predicted = 303.269420,   expected = 293.220001,   error = 3.427262  %\n",
            "predicted = 293.363960,   expected = 293.660004,   error = 0.100812  %\n",
            "predicted = 293.555487,   expected = 293.200012,   error = 0.121240  %\n"
          ],
          "name": "stdout"
        },
        {
          "output_type": "stream",
          "text": [
            "/usr/local/lib/python3.7/dist-packages/statsmodels/base/model.py:512: ConvergenceWarning: Maximum Likelihood optimization failed to converge. Check mle_retvals\n",
            "  \"Check mle_retvals\", ConvergenceWarning)\n"
          ],
          "name": "stderr"
        },
        {
          "output_type": "stream",
          "text": [
            "predicted = 293.111649,   expected = 295.440002,   error = 0.788097  %\n",
            "predicted = 295.285009,   expected = 302.500000,   error = 2.385121  %\n",
            "predicted = 302.222624,   expected = 291.119995,   error = 3.813764  %\n",
            "predicted = 291.298015,   expected = 282.730011,   error = 3.030454  %\n",
            "predicted = 282.839466,   expected = 271.160004,   error = 4.307221  %\n",
            "predicted = 271.331372,   expected = 273.720001,   error = 0.872654  %\n",
            "predicted = 273.571042,   expected = 268.089996,   error = 2.044480  %\n",
            "predicted = 268.126200,   expected = 266.609985,   error = 0.568702  %\n",
            "predicted = 266.554343,   expected = 266.149994,   error = 0.151925  %\n",
            "predicted = 266.068563,   expected = 272.420013,   error = 2.331492  %\n",
            "predicted = 272.176853,   expected = 263.519989,   error = 3.285088  %\n",
            "predicted = 263.635141,   expected = 254.820007,   error = 3.459357  %\n",
            "predicted = 254.932489,   expected = 252.529999,   error = 0.951368  %\n",
            "predicted = 252.497243,   expected = 248.149994,   error = 1.751863  %\n",
            "predicted = 248.161681,   expected = 254.750000,   error = 2.586190  %\n",
            "predicted = 254.508036,   expected = 249.020004,   error = 2.203852  %\n",
            "predicted = 249.061747,   expected = 249.529999,   error = 0.187654  %\n",
            "predicted = 249.432733,   expected = 254.820007,   error = 2.114149  %\n",
            "predicted = 254.603926,   expected = 256.820007,   error = 0.862893  %\n",
            "predicted = 256.679692,   expected = 261.790009,   error = 1.952067  %\n",
            "predicted = 261.580292,   expected = 261.899994,   error = 0.122070  %\n",
            "predicted = 261.803067,   expected = 266.630005,   error = 1.810351  %\n",
            "predicted = 266.426046,   expected = 259.940002,   error = 2.495208  %\n",
            "predicted = 260.002564,   expected = 264.649994,   error = 1.756067  %\n",
            "predicted = 264.447568,   expected = 258.660004,   error = 2.237518  %\n",
            "predicted = 258.710895,   expected = 258.119995,   error = 0.228925  %\n",
            "predicted = 258.046237,   expected = 263.760010,   error = 2.166277  %\n",
            "predicted = 263.529950,   expected = 264.450012,   error = 0.347915  %\n",
            "predicted = 264.337991,   expected = 275.750000,   error = 4.138535  %\n",
            "predicted = 275.375890,   expected = 276.140015,   error = 0.276717  %\n",
            "predicted = 276.028938,   expected = 271.820007,   error = 1.548426  %\n",
            "predicted = 271.829154,   expected = 266.720001,   error = 1.915549  %\n",
            "predicted = 266.750400,   expected = 265.929993,   error = 0.308505  %\n",
            "predicted = 265.859449,   expected = 261.399994,   error = 1.705989  %\n",
            "predicted = 261.416149,   expected = 267.559998,   error = 2.296251  %\n",
            "predicted = 267.320097,   expected = 278.730011,   error = 4.093536  %\n",
            "predicted = 278.365419,   expected = 278.119995,   error = 0.088244  %\n",
            "predicted = 278.032570,   expected = 284.790009,   error = 2.372780  %\n",
            "predicted = 284.535667,   expected = 277.109985,   error = 2.679688  %\n",
            "predicted = 277.192093,   expected = 283.290009,   error = 2.152535  %\n",
            "predicted = 283.045916,   expected = 267.670013,   error = 5.744350  %\n",
            "predicted = 267.958161,   expected = 280.829987,   error = 4.583494  %\n",
            "predicted = 280.375633,   expected = 263.109985,   error = 6.562141  %\n",
            "predicted = 263.520199,   expected = 261.359985,   error = 0.826528  %\n",
            "predicted = 261.334995,   expected = 265.299988,   error = 1.494532  %\n",
            "predicted = 265.092963,   expected = 287.380005,   error = 7.755251  %\n",
            "predicted = 286.621792,   expected = 294.679993,   error = 2.734560  %\n",
            "predicted = 294.365108,   expected = 293.410004,   error = 0.325519  %\n",
            "predicted = 293.338654,   expected = 278.769989,   error = 5.226052  %\n",
            "predicted = 279.055972,   expected = 272.429993,   error = 2.432177  %\n",
            "predicted = 272.505517,   expected = 276.480011,   error = 1.437534  %\n",
            "predicted = 276.282788,   expected = 275.079987,   error = 0.437255  %\n",
            "predicted = 275.018450,   expected = 276.950012,   error = 0.697441  %\n",
            "predicted = 276.806269,   expected = 278.959991,   error = 0.772054  %\n",
            "predicted = 278.810077,   expected = 275.000000,   error = 1.385483  %\n",
            "predicted = 275.006277,   expected = 271.970001,   error = 1.116401  %\n",
            "predicted = 271.956646,   expected = 272.940002,   error = 0.360283  %\n",
            "predicted = 272.822437,   expected = 269.700012,   error = 1.157740  %\n",
            "predicted = 269.689821,   expected = 268.429993,   error = 0.469332  %\n",
            "predicted = 268.371990,   expected = 276.920013,   error = 3.086820  %\n",
            "predicted = 276.600232,   expected = 275.589996,   error = 0.366572  %\n",
            "predicted = 275.524023,   expected = 277.809998,   error = 0.822856  %\n",
            "predicted = 277.656824,   expected = 276.970001,   error = 0.247978  %\n",
            "predicted = 276.895401,   expected = 286.549988,   error = 3.369251  %\n",
            "predicted = 286.196180,   expected = 287.519989,   error = 0.460423  %\n",
            "predicted = 287.390071,   expected = 281.850006,   error = 1.965608  %\n",
            "predicted = 281.900688,   expected = 279.700012,   error = 0.786799  %\n",
            "predicted = 279.664222,   expected = 285.579987,   error = 2.071491  %\n",
            "predicted = 285.328001,   expected = 283.399994,   error = 0.680313  %\n",
            "predicted = 283.356884,   expected = 277.920013,   error = 1.956272  %\n",
            "predicted = 277.969309,   expected = 277.119995,   error = 0.306479  %\n",
            "predicted = 277.049960,   expected = 273.549988,   error = 1.279463  %\n",
            "predicted = 273.549913,   expected = 274.190002,   error = 0.233447  %\n",
            "predicted = 274.081689,   expected = 275.549988,   error = 0.532861  %\n",
            "predicted = 275.419568,   expected = 275.670013,   error = 0.090849  %\n",
            "predicted = 275.571728,   expected = 274.480011,   error = 0.397740  %\n",
            "predicted = 274.417288,   expected = 276.399994,   error = 0.717332  %\n",
            "predicted = 276.255920,   expected = 272.790009,   error = 1.270542  %\n",
            "predicted = 272.790031,   expected = 267.089996,   error = 2.134125  %\n",
            "predicted = 267.148030,   expected = 268.109985,   error = 0.358791  %\n",
            "predicted = 267.995248,   expected = 267.399994,   error = 0.222608  %\n",
            "predicted = 267.326276,   expected = 277.000000,   error = 3.492319  %\n",
            "predicted = 276.649571,   expected = 276.779999,   error = 0.047123  %\n",
            "predicted = 276.684930,   expected = 271.869995,   error = 1.771043  %\n",
            "predicted = 271.905111,   expected = 273.160004,   error = 0.459399  %\n",
            "predicted = 273.036298,   expected = 268.940002,   error = 1.523126  %\n",
            "predicted = 268.957819,   expected = 270.970001,   error = 0.742585  %\n",
            "predicted = 270.826622,   expected = 263.309998,   error = 2.854667  %\n",
            "predicted = 263.419575,   expected = 268.739990,   error = 1.979763  %\n",
            "predicted = 268.505328,   expected = 267.570007,   error = 0.349561  %\n",
            "predicted = 267.506548,   expected = 256.839996,   error = 4.152995  %\n",
            "predicted = 257.036643,   expected = 251.089996,   error = 2.368333  %\n",
            "predicted = 251.159492,   expected = 251.639999,   error = 0.190950  %\n",
            "predicted = 251.542767,   expected = 245.639999,   error = 2.403016  %\n",
            "predicted = 245.710509,   expected = 251.360001,   error = 2.247570  %\n",
            "predicted = 251.122997,   expected = 261.100006,   error = 3.821145  %\n",
            "predicted = 260.747847,   expected = 267.480011,   error = 2.516885  %\n",
            "predicted = 267.218910,   expected = 272.869995,   error = 2.070981  %\n",
            "predicted = 272.637727,   expected = 274.500000,   error = 0.678424  %\n",
            "predicted = 274.362759,   expected = 278.010010,   error = 1.311913  %\n",
            "predicted = 277.827666,   expected = 282.049988,   error = 1.497012  %\n",
            "predicted = 281.852951,   expected = 272.140015,   error = 3.569095  %\n",
            "predicted = 272.287132,   expected = 265.000000,   error = 2.749861  %\n",
            "predicted = 265.084445,   expected = 258.329987,   error = 2.614663  %\n",
            "predicted = 258.399640,   expected = 262.010010,   error = 1.377951  %\n",
            "predicted = 261.835691,   expected = 267.079987,   error = 1.963567  %\n",
            "predicted = 266.865764,   expected = 266.649994,   error = 0.080919  %\n",
            "predicted = 266.566004,   expected = 266.489990,   error = 0.028524  %\n",
            "predicted = 266.402829,   expected = 268.100006,   error = 0.633039  %\n",
            "predicted = 267.970431,   expected = 266.579987,   error = 0.521586  %\n",
            "predicted = 266.523920,   expected = 269.450012,   error = 1.085950  %\n",
            "predicted = 269.290721,   expected = 271.869995,   error = 0.948716  %\n",
            "predicted = 271.718652,   expected = 270.390015,   error = 0.491378  %\n",
            "predicted = 270.331694,   expected = 270.500000,   error = 0.062220  %\n",
            "predicted = 270.406335,   expected = 273.970001,   error = 1.300750  %\n",
            "predicted = 273.794601,   expected = 273.570007,   error = 0.082097  %\n",
            "predicted = 273.484960,   expected = 269.390015,   error = 1.520080  %\n",
            "predicted = 269.396917,   expected = 261.559998,   error = 2.996222  %\n",
            "predicted = 261.652512,   expected = 260.329987,   error = 0.508019  %\n",
            "predicted = 260.273687,   expected = 265.859985,   error = 2.101218  %\n",
            "predicted = 265.640428,   expected = 264.309998,   error = 0.503360  %\n",
            "predicted = 264.253182,   expected = 254.690002,   error = 3.754831  %\n",
            "predicted = 254.822543,   expected = 257.619995,   error = 1.085883  %\n",
            "predicted = 257.468058,   expected = 264.910004,   error = 2.809235  %\n",
            "predicted = 264.646221,   expected = 259.000000,   error = 2.180008  %\n",
            "predicted = 259.046627,   expected = 255.410004,   error = 1.423837  %\n",
            "predicted = 255.409814,   expected = 257.640015,   error = 0.865627  %\n",
            "predicted = 257.501298,   expected = 264.279999,   error = 2.564969  %\n",
            "predicted = 264.031117,   expected = 255.309998,   error = 3.415894  %\n",
            "predicted = 255.432345,   expected = 265.739990,   error = 3.878846  %\n",
            "predicted = 265.386937,   expected = 264.899994,   error = 0.183821  %\n",
            "predicted = 264.824836,   expected = 273.880005,   error = 3.306254  %\n",
            "predicted = 273.556562,   expected = 268.399994,   error = 1.921225  %\n",
            "predicted = 268.443794,   expected = 273.750000,   error = 1.938340  %\n",
            "predicted = 273.520198,   expected = 279.279999,   error = 2.062375  %\n",
            "predicted = 279.038429,   expected = 284.010010,   error = 1.750495  %\n",
            "predicted = 283.789503,   expected = 278.619995,   error = 1.855397  %\n",
            "predicted = 278.661494,   expected = 290.109985,   error = 3.946259  %\n",
            "predicted = 289.707744,   expected = 293.540009,   error = 1.305534  %\n",
            "predicted = 293.345215,   expected = 290.630005,   error = 0.934250  %\n",
            "predicted = 290.606898,   expected = 282.140015,   error = 3.000951  %\n",
            "predicted = 282.264421,   expected = 278.739990,   error = 1.264415  %\n",
            "predicted = 278.738710,   expected = 283.019989,   error = 1.512712  %\n",
            "predicted = 282.817025,   expected = 290.820007,   error = 2.751868  %\n",
            "predicted = 290.519758,   expected = 288.000000,   error = 0.874916  %\n",
            "predicted = 287.971212,   expected = 294.529999,   error = 2.226866  %\n",
            "predicted = 294.264346,   expected = 298.660004,   error = 1.471793  %\n",
            "predicted = 298.451386,   expected = 308.910004,   error = 3.385652  %\n",
            "predicted = 308.544682,   expected = 306.260010,   error = 0.745991  %\n",
            "predicted = 306.220300,   expected = 313.089996,   error = 2.194160  %\n",
            "predicted = 312.814332,   expected = 313.019989,   error = 0.065701  %\n",
            "predicted = 312.916030,   expected = 312.459991,   error = 0.145951  %\n",
            "predicted = 312.373065,   expected = 311.540009,   error = 0.267399  %\n",
            "predicted = 311.462932,   expected = 309.760010,   error = 0.549755  %\n",
            "predicted = 309.705402,   expected = 302.820007,   error = 2.273758  %\n",
            "predicted = 302.896196,   expected = 307.820007,   error = 1.599575  %\n",
            "predicted = 307.595671,   expected = 306.179993,   error = 0.462368  %\n",
            "predicted = 306.119440,   expected = 302.239990,   error = 1.283566  %\n",
            "predicted = 302.242951,   expected = 302.649994,   error = 0.134493  %\n",
            "predicted = 302.543704,   expected = 301.470001,   error = 0.356156  %\n",
            "predicted = 301.401930,   expected = 296.519989,   error = 1.646412  %\n",
            "predicted = 296.549526,   expected = 301.130005,   error = 1.521097  %\n",
            "predicted = 300.915571,   expected = 303.040009,   error = 0.701042  %\n",
            "predicted = 302.889437,   expected = 303.570007,   error = 0.224189  %\n",
            "predicted = 303.456707,   expected = 307.100006,   error = 1.186356  %\n",
            "predicted = 306.909296,   expected = 329.510010,   error = 6.858885  %\n",
            "predicted = 328.821988,   expected = 325.079987,   error = 1.151102  %\n",
            "predicted = 325.074412,   expected = 322.579987,   error = 0.773273  %\n",
            "predicted = 322.543460,   expected = 318.359985,   error = 1.314071  %\n",
            "\n",
            " Mean Error in Predicting Test Case Articles : 1.843868  %\n"
          ],
          "name": "stdout"
        },
        {
          "output_type": "display_data",
          "data": {
            "image/png": "[encoded data removed]",
            "text/plain": [
              "<Figure size 576x432 with 1 Axes>"
            ]
          },
          "metadata": {
            "tags": [],
            "needs_background": "light"
          }
        }
      ]
    },
    {
      "cell_type": "code",
      "metadata": {
        "id": "AEOl3m_OOCzr"
      },
      "source": [
        ""
      ],
      "execution_count": null,
      "outputs": []
    }
  ]
}